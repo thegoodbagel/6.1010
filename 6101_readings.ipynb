{
  "cells": [
    {
      "cell_type": "code",
      "execution_count": null,
      "metadata": {
        "colab": {
          "base_uri": "https://localhost:8080/",
          "height": 365
        },
        "id": "XHnwn2E1gnvi",
        "outputId": "94d32961-4815-451a-aff4-7be660c19df6"
      },
      "outputs": [],
      "source": [
        "def sum_list(x):\n",
        "  if not x:\n",
        "    return 0\n",
        "  else:\n",
        "    m = len(x) // 2\n",
        "    return sum_list(x[0:m]) + sum_list(x[m:])\n",
        "\n",
        "print(sum_list([1, 2, 3]))"
      ]
    },
    {
      "cell_type": "code",
      "execution_count": null,
      "metadata": {
        "colab": {
          "base_uri": "https://localhost:8080/"
        },
        "id": "9Eg4ibQenHxA",
        "outputId": "8e9da6af-0505-4b26-973b-e1c9928af5e5"
      },
      "outputs": [],
      "source": [
        "x = 307\n",
        "x = 308\n",
        "y = x\n",
        "print(id(x))\n",
        "print(id(y))\n",
        "y = 342\n",
        "print(x)\n",
        "print(id(x))\n",
        "print(id(y))"
      ]
    },
    {
      "cell_type": "code",
      "execution_count": null,
      "metadata": {
        "colab": {
          "base_uri": "https://localhost:8080/"
        },
        "id": "J5y7tYAbqJKK",
        "outputId": "09c2797e-95c4-4690-cd61-41c73c13ee32"
      },
      "outputs": [
        {
          "name": "stdout",
          "output_type": "stream",
          "text": [
            "[304, 302, 303]\n",
            "[[304, 302, 303], [304, 302, 303], [304, 302, 303]]\n"
          ]
        }
      ],
      "source": [
        "a = [301, 302, 303]\n",
        "b = [a, a, a]\n",
        "\n",
        "b[0][0] = 304\n",
        "\n",
        "print(a)\n",
        "print(b)"
      ]
    },
    {
      "cell_type": "code",
      "execution_count": null,
      "metadata": {
        "colab": {
          "base_uri": "https://localhost:8080/"
        },
        "id": "_Bvll5aPqb6M",
        "outputId": "913e50fe-be69-4009-92e8-19af12a3336c"
      },
      "outputs": [
        {
          "name": "stdout",
          "output_type": "stream",
          "text": [
            "[6, 5, 4, 3, 2]\n"
          ]
        }
      ],
      "source": [
        "x = [9, 8, 7, 6, 5, 4, 3, 2]\n",
        "print(x[-5:])"
      ]
    },
    {
      "cell_type": "code",
      "execution_count": null,
      "metadata": {
        "colab": {
          "base_uri": "https://localhost:8080/"
        },
        "id": "qwRHK0xDr5MS",
        "outputId": "0ed2c2f1-cc4a-4e94-a539-5e65ec3545b8"
      },
      "outputs": [
        {
          "name": "stdout",
          "output_type": "stream",
          "text": [
            "[20, [30, 6, 5]]\n",
            "[20, [30, 6, 5]]\n",
            "[[9, 8], [30, 6, 5]]\n"
          ]
        }
      ],
      "source": [
        "x = [[9, 8], [7, 6, 5]]\n",
        "y1 = x\n",
        "y2 = x[:]\n",
        "\n",
        "x[0] = 20\n",
        "x[1][0] = 30\n",
        "\n",
        "print(x)\n",
        "print(y1)\n",
        "print(y2)"
      ]
    },
    {
      "cell_type": "code",
      "execution_count": null,
      "metadata": {
        "colab": {
          "base_uri": "https://localhost:8080/"
        },
        "id": "BANxjXXGs75W",
        "outputId": "d1377b99-838c-4013-d233-c2faddbf5449"
      },
      "outputs": [
        {
          "name": "stdout",
          "output_type": "stream",
          "text": [
            "[7, 7, 8, 7, 7, 7]\n"
          ]
        }
      ],
      "source": [
        "x = [7, 7, 7, 7, 7]\n",
        "x.insert(2, 8)\n",
        "print(x)"
      ]
    },
    {
      "cell_type": "code",
      "execution_count": null,
      "metadata": {
        "colab": {
          "base_uri": "https://localhost:8080/"
        },
        "id": "ixC3Kv2Ttaq3",
        "outputId": "775bd71a-9e9a-4936-e2f9-820526b3e36e"
      },
      "outputs": [
        {
          "name": "stdout",
          "output_type": "stream",
          "text": [
            "[8, 3, 0, 4, 9, 2, 5, 7, 1]\n"
          ]
        }
      ],
      "source": [
        "x = [8, 3, 0, 4, 6, 9, 2, 5, 7, 1]\n",
        "x.pop(4)\n",
        "print(x)"
      ]
    },
    {
      "cell_type": "code",
      "execution_count": null,
      "metadata": {
        "colab": {
          "base_uri": "https://localhost:8080/"
        },
        "id": "--DgAW5Hm2BB",
        "outputId": "b9b62386-dde7-4338-b5b5-37b99732afa6"
      },
      "outputs": [
        {
          "name": "stdout",
          "output_type": "stream",
          "text": [
            "x: 500\n",
            "z: 807\n",
            "foo: <function foo at 0x7c0fbd3cd6c0>\n",
            "x: 500\n",
            "w: 808\n"
          ]
        }
      ],
      "source": [
        "x = 500\n",
        "\n",
        "def foo(y):\n",
        "  return x+y\n",
        "\n",
        "z = foo(307)\n",
        "\n",
        "print('x:', x)\n",
        "print('z:', z)\n",
        "print('foo:', foo)\n",
        "\n",
        "def bar(x):\n",
        "  x = 1000\n",
        "  return foo(308)\n",
        "\n",
        "w = bar(349)\n",
        "\n",
        "print('x:', x)\n",
        "print('w:', w)"
      ]
    },
    {
      "cell_type": "code",
      "execution_count": null,
      "metadata": {
        "colab": {
          "base_uri": "https://localhost:8080/"
        },
        "id": "0SssFitgsHFg",
        "outputId": "2f04ca3b-0a19-4750-ce90-7e73c596d559"
      },
      "outputs": [
        {
          "data": {
            "text/plain": [
              "48"
            ]
          },
          "execution_count": 2,
          "metadata": {},
          "output_type": "execute_result"
        }
      ],
      "source": [
        "def apply_n_times(f, n, x):\n",
        "  out = x\n",
        "  for i in range(n):\n",
        "    out = f(out)\n",
        "  return out\n",
        "\n",
        "def double(y):\n",
        "  return y * 2\n",
        "\n",
        "apply_n_times(double, 4, 3)"
      ]
    },
    {
      "cell_type": "code",
      "execution_count": null,
      "metadata": {
        "colab": {
          "base_uri": "https://localhost:8080/",
          "height": 430
        },
        "id": "PB3786ou09id",
        "outputId": "1aa722b2-3392-4c24-e0fe-30e136685f18"
      },
      "outputs": [
        {
          "data": {
            "image/png": "[encoded data removed]",
            "text/plain": [
              "<Figure size 640x480 with 1 Axes>"
            ]
          },
          "metadata": {},
          "output_type": "display_data"
        }
      ],
      "source": [
        "import math\n",
        "import matplotlib.pyplot as plt\n",
        "\n",
        "def response(f, lo, hi, step):\n",
        "  xs = []\n",
        "  ys = []\n",
        "  cur = lo\n",
        "  while cur <= hi:\n",
        "    xs.append(cur)\n",
        "    ys.append(f(cur))\n",
        "    cur += step\n",
        "  plt.plot(xs, ys)\n",
        "\n",
        "def square(x):\n",
        "  return x ** 2\n",
        "\n",
        "response(square, 0, 5, 0.001)\n",
        "response(lambda x: x ** 3, 0, 5, 0.001)\n",
        "response(math.sin, 0, 10, 0.01)"
      ]
    },
    {
      "cell_type": "code",
      "execution_count": null,
      "metadata": {
        "colab": {
          "base_uri": "https://localhost:8080/"
        },
        "id": "t9Bw7MMPI0nn",
        "outputId": "e46d1e90-7999-45f5-91a3-d174e0f36201"
      },
      "outputs": [
        {
          "name": "stdout",
          "output_type": "stream",
          "text": [
            "[1, 4, 9, 16, 25, 36]\n",
            "[4, 5, 6]\n"
          ]
        }
      ],
      "source": [
        "y = [1, 2, 3, -4, -5, -6]\n",
        "squares = [x**2 for x in y]\n",
        "print(squares)\n",
        "\n",
        "out = [-x for x in y if x < 0]\n",
        "print(out)"
      ]
    },
    {
      "cell_type": "code",
      "execution_count": null,
      "metadata": {
        "colab": {
          "base_uri": "https://localhost:8080/"
        },
        "id": "CVP9ycewMQgU",
        "outputId": "649fc673-a496-4d78-8def-9d66823bea16"
      },
      "outputs": [
        {
          "name": "stdout",
          "output_type": "stream",
          "text": [
            "1=1 2=2\n"
          ]
        }
      ],
      "source": [
        "x = 1\n",
        "y = 2\n",
        "print(f'{1=} {2=}')\n"
      ]
    },
    {
      "cell_type": "code",
      "execution_count": null,
      "metadata": {
        "id": "CYaFosFLRWOG"
      },
      "outputs": [],
      "source": [
        "x = {3}\n",
        "y = {(1, 2)}"
      ]
    },
    {
      "cell_type": "code",
      "execution_count": null,
      "metadata": {
        "id": "KgPChrgNRKRJ"
      },
      "outputs": [],
      "source": [
        "def find_path(graph, start, goal_test):\n",
        "  \"\"\"\n",
        "  Find a path through the given state graph, starting from the 'start' state\n",
        "  and reaching a state satisfying 'goal_test\n",
        ".\n",
        "  Note that all state representations must be hashable.\n",
        "\n",
        "  graph: adjacency dictionary, where each key is a state,\n",
        "    and its value is the list of he state's immediate neighbors\n",
        "  start: starting state\n",
        "  goal_test: function that takes a state and returns True (or truthy)\n",
        "    if and only if the state satisfies the goal condition\n",
        "\n",
        "  returns the path of states from start to a goal state,\n",
        "  or None of no path exists\n",
        "  \"\"\"\n",
        "  agenda = [ (start, ) ]\n",
        "  visited = {start}\n",
        "\n",
        "  while agenda:\n",
        "    cur_path = agenda.pop()\n",
        "    cur_state = cur_path[-1]\n",
        "\n",
        "    if goal_test(cur_state):\n",
        "      return cur_path\n",
        "\n",
        "    for new_state in graph[cur_state]:\n",
        "      if new_state not in visited:\n",
        "        visited.add(new_state)\n",
        "        agenda.add(cur_path + (new_state, ))\n",
        "\n",
        "  return None\n",
        "\n",
        "\n",
        "\n",
        "\n"
      ]
    },
    {
      "cell_type": "code",
      "execution_count": null,
      "metadata": {
        "colab": {
          "base_uri": "https://localhost:8080/"
        },
        "id": "tqpre8KbVgSL",
        "outputId": "7507c610-7b2b-437b-963d-b6e5f34a7ac8"
      },
      "outputs": [
        {
          "name": "stdout",
          "output_type": "stream",
          "text": [
            "-32\n",
            "True\n"
          ]
        }
      ],
      "source": [
        "x = lambda state: -32\n",
        "print(x(-32))\n",
        "\n",
        "x = lambda state: state == -32\n",
        "print(x(-32))"
      ]
    },
    {
      "cell_type": "code",
      "execution_count": null,
      "metadata": {
        "colab": {
          "base_uri": "https://localhost:8080/"
        },
        "id": "mhpYbCecsBPN",
        "outputId": "eeff2e21-8684-4f11-b6c9-7e7153b48168"
      },
      "outputs": [
        {
          "name": "stdout",
          "output_type": "stream",
          "text": [
            "True\n",
            "False\n"
          ]
        }
      ],
      "source": [
        "print((1, 3) in {(1, 1), (1, 3), (2, 4)})"
      ]
    },
    {
      "cell_type": "code",
      "execution_count": null,
      "metadata": {
        "colab": {
          "base_uri": "https://localhost:8080/"
        },
        "id": "ztXzWYSfxA-K",
        "outputId": "2984df68-5a47-4694-ea70-13312dfcb348"
      },
      "outputs": [
        {
          "name": "stdout",
          "output_type": "stream",
          "text": [
            "{1, 2, 3, 4, 5, 6}\n",
            "{1, 2, 3, 4, 5}\n",
            "{1, 2, 3, 4, 5, 6, 7}\n",
            "frozenset({1, 2, 3, 4, 5, 6})\n"
          ]
        }
      ],
      "source": [
        "my_frozenset = ({1, 2, 3, 4, 5})\n",
        "my_set = set(my_frozenset)\n",
        "my_set.add(6)\n",
        "print(my_set)\n",
        "print(my_frozenset)\n",
        "new_fset = frozenset(myu_set)\n",
        "my_set.add(7)\n",
        "print(my_set)\n",
        "print(new_fset)"
      ]
    },
    {
      "cell_type": "code",
      "execution_count": null,
      "metadata": {
        "colab": {
          "base_uri": "https://localhost:8080/"
        },
        "id": "YKiQ_BokzsIL",
        "outputId": "5e78685b-b12d-42d6-de60-ddc473db2261"
      },
      "outputs": [
        {
          "name": "stdout",
          "output_type": "stream",
          "text": [
            "[[[], [], []], [[], [], []], [[], [], []], [[], [], []]]\n"
          ]
        }
      ],
      "source": [
        "board = [ [ [] for i in range(3) ] for i in range(4) ]\n",
        "print(board)"
      ]
    },
    {
      "cell_type": "code",
      "execution_count": null,
      "metadata": {
        "colab": {
          "base_uri": "https://localhost:8080/"
        },
        "id": "9u9YDwt5G8s_",
        "outputId": "4a9db688-a040-4755-87c1-fe9cd74ce6c3"
      },
      "outputs": [
        {
          "name": "stdout",
          "output_type": "stream",
          "text": [
            "(0, 3)\n",
            "(-1, 4)\n"
          ]
        }
      ],
      "source": [
        "DIRECTION_VECTOR = {\n",
        "    \"up\": (-1, 0),\n",
        "    \"down\": (+1, 0),\n",
        "    \"left\": (0, -1),\n",
        "    \"right\": (0, +1),\n",
        "}\n",
        "\n",
        "def update_coord(coord: tuple, direction: str) -> tuple:\n",
        "  return tuple(map(lambda i, j: i + j, DIRECTION_VECTOR[direction], coord))\n",
        "\n",
        "print(update_coord((1, 3), \"up\"))\n",
        "print(update_coord((-2, 4), \"down\"))"
      ]
    },
    {
      "cell_type": "code",
      "execution_count": null,
      "metadata": {
        "colab": {
          "base_uri": "https://localhost:8080/"
        },
        "collapsed": true,
        "id": "WlyfGP2YV8fI",
        "outputId": "252ecec1-fd0c-49ec-d966-a2494819800a"
      },
      "outputs": [],
      "source": [
        "def list_range(start, stop, step=1):\n",
        "  assert step >= 1\n",
        "  out = []\n",
        "  current = start\n",
        "  while current < stop:\n",
        "    out.append(current)\n",
        "    current += step\n",
        "  return out\n",
        "\n",
        "# generator\n",
        "def gen_range(start, stop, step=1):\n",
        "  assert step >= 1\n",
        "  current = start\n",
        "  while current < stop:\n",
        "    yield current\n",
        "    current += step\n",
        "\n",
        "for i in gen_range(0, 1_000_000_000_000_000, 1):\n",
        "  if i > 100:\n",
        "    break\n",
        "  print(i**2)"
      ]
    },
    {
      "cell_type": "code",
      "execution_count": null,
      "metadata": {
        "id": "U8BgXltSgO43"
      },
      "outputs": [],
      "source": [
        "def subwords(word):\n",
        "  \"\"\"\n",
        "  Return all valid words that can be made from a subset of the letters in the\n",
        "  original given word (regardless of order).\n",
        "\n",
        "  >>> result = subwords('cat')\n",
        "  >>> expected = {'cat', 'act', 'at'}\n",
        "  >>> result == expected\n",
        "  True\n",
        "  \"\"\"\n",
        "  return {w for w in subwords_helper(word) if w in ALL_WORDS}\n",
        "\n",
        "def subwords_helper(word):\n",
        "  \"\"\"\n",
        "  Helper function, returns all possible permutations of subsequences of x,\n",
        "  regardless of whether they are real words or not.\n",
        "\n",
        "  >>> result = subwords_helper('cat')\n",
        "  >>> expected = {'', 'c', 'a', 't',\n",
        "  ...             'ca', 'ac', 'ct', 'tc', 'ta', 'at',\n",
        "  ...             'cat', 'cta', 'tac', 'tca', 'act', 'atc'}\n",
        "  >>> result == expected\n",
        "  True\n",
        "  \"\"\"\n",
        "  if not word:\n",
        "    return {''}\n",
        "\n",
        "  first = word[0]\n",
        "  rest = word[1:]\n",
        "\n",
        "  out = set()\n",
        "  for w in subwords_helper(rest):\n",
        "    out.add(w)\n",
        "    for ix in range(len(w)+1):\n",
        "      out.add(w[:ix] + first + w[ix:])\n",
        "  return out\n",
        "\n",
        "def subwords_helper_gen(word):\n",
        "  if not word:\n",
        "    yield ''\n",
        "    return\n",
        "\n",
        "  first = word[0]\n",
        "  rest = word[1:]\n",
        "\n",
        "  for w in subwords_helper(rest):\n",
        "    yield w\n",
        "    for ix in range(len(w)+1):\n",
        "      yield w[:ix] + first + w[ix:]"
      ]
    },
    {
      "cell_type": "code",
      "execution_count": null,
      "metadata": {
        "id": "2XPuS5gskbV2"
      },
      "outputs": [],
      "source": [
        "def odd_elements(iterable):\n",
        "  yield from (number for number in iterable if number % 2 == 1 )"
      ]
    },
    {
      "cell_type": "code",
      "execution_count": null,
      "metadata": {
        "id": "IE7KhcBbk7ow"
      },
      "outputs": [],
      "source": [
        "def negate_elements(x):\n",
        "  for val in x:\n",
        "    yield -val"
      ]
    },
    {
      "cell_type": "code",
      "execution_count": null,
      "metadata": {
        "colab": {
          "base_uri": "https://localhost:8080/",
          "height": 1000
        },
        "collapsed": true,
        "id": "Uo42m4DrlQ-q",
        "outputId": "e65b8328-240d-4683-bee4-889810b2259e"
      },
      "outputs": [],
      "source": [
        "import math\n",
        "\n",
        "def sine(period):\n",
        "  n = 0\n",
        "  while True:\n",
        "    yield round(math.sin(n * 2 * math.pi / period), 6)\n",
        "    n = (n + 1) % period\n",
        "\n",
        "for x in sine(5):\n",
        "  print(x)"
      ]
    },
    {
      "cell_type": "code",
      "execution_count": null,
      "metadata": {
        "colab": {
          "base_uri": "https://localhost:8080/"
        },
        "id": "NC7z2pSUhWUS",
        "outputId": "246c3ccd-664f-440d-b490-88b298cf135f"
      },
      "outputs": [
        {
          "name": "stdout",
          "output_type": "stream",
          "text": [
            "13\n",
            "7\n",
            "8\n",
            "99\n",
            "16\n",
            "77\n",
            "42\n"
          ]
        }
      ],
      "source": [
        "def all_values(tree):\n",
        "  if not isinstance(tree, list):\n",
        "    yield tree\n",
        "  else:\n",
        "    for x in tree:\n",
        "      yield from all_values(x)\n",
        "\n",
        "tree1 = [13, [7], [8, [99], [16, [77]], [42]]]\n",
        "for x in all_values(tree1):\n",
        "  print(x)"
      ]
    },
    {
      "cell_type": "code",
      "execution_count": null,
      "metadata": {
        "colab": {
          "base_uri": "https://localhost:8080/",
          "height": 233
        },
        "id": "L35HvtHom3am",
        "outputId": "1ef68e7d-d016-46bc-8ac4-b81c7aa52cdb"
      },
      "outputs": [
        {
          "ename": "TypeError",
          "evalue": "Vector2D.magnitude() takes 1 positional argument but 2 were given",
          "output_type": "error",
          "traceback": [
            "\u001b[0;31m---------------------------------------------------------------------------\u001b[0m",
            "\u001b[0;31mTypeError\u001b[0m                                 Traceback (most recent call last)",
            "\u001b[0;32m<ipython-input-1-eb269903f194>\u001b[0m in \u001b[0;36m<cell line: 11>\u001b[0;34m()\u001b[0m\n\u001b[1;32m      9\u001b[0m \u001b[0mv\u001b[0m\u001b[0;34m.\u001b[0m\u001b[0my\u001b[0m \u001b[0;34m=\u001b[0m \u001b[0;36m4\u001b[0m\u001b[0;34m\u001b[0m\u001b[0;34m\u001b[0m\u001b[0m\n\u001b[1;32m     10\u001b[0m \u001b[0;34m\u001b[0m\u001b[0m\n\u001b[0;32m---> 11\u001b[0;31m \u001b[0mprint\u001b[0m\u001b[0;34m(\u001b[0m\u001b[0mv\u001b[0m\u001b[0;34m.\u001b[0m\u001b[0mmagnitude\u001b[0m\u001b[0;34m(\u001b[0m\u001b[0mv\u001b[0m\u001b[0;34m)\u001b[0m\u001b[0;34m)\u001b[0m\u001b[0;34m\u001b[0m\u001b[0;34m\u001b[0m\u001b[0m\n\u001b[0m",
            "\u001b[0;31mTypeError\u001b[0m: Vector2D.magnitude() takes 1 positional argument but 2 were given"
          ]
        }
      ],
      "source": [
        "class Vector2D:\n",
        "  ndims = 2\n",
        "\n",
        "  def magnitude(vec):\n",
        "    return (vec.x**2 + vec.y**2) ** 0.5\n",
        "\n",
        "v = Vector2D()\n",
        "v.x = 3\n",
        "v.y = 4\n",
        "\n",
        "print(v.magnitude(v))"
      ]
    },
    {
      "cell_type": "code",
      "execution_count": null,
      "metadata": {
        "colab": {
          "base_uri": "https://localhost:8080/"
        },
        "id": "ukAON40GAuyE",
        "outputId": "3fda7a4f-9227-47a6-9388-f2fd1659ffbd"
      },
      "outputs": [
        {
          "name": "stdout",
          "output_type": "stream",
          "text": [
            "LinkedList(3, LinkedList(4, LinkedList(5, None)))\n",
            "3\n"
          ]
        }
      ],
      "source": [
        "class LinkedList:\n",
        "  def __init__(self, element, next_node=None):\n",
        "    self.element = element\n",
        "    self.next_node = next_node\n",
        "\n",
        "  def _get_node(self, index):\n",
        "    if index == 0:\n",
        "      return self\n",
        "    elif self.next_node is None:\n",
        "      raise IndexError('index out of range!')\n",
        "    else:\n",
        "      return self.next_node._get_node(index - 1)\n",
        "\n",
        "  def __getitem__(self, index):\n",
        "    return self._get_node(index).element\n",
        "\n",
        "  def __setitem__(self, index, value):\n",
        "    self._get_node(index).element = value\n",
        "\n",
        "  def __str__(self):\n",
        "    return f\"LinkedList({self.element}, {self.next_node})\"\n",
        "\n",
        "  def __len__(self):\n",
        "    if self.next_node == None:\n",
        "      return 1\n",
        "    else:\n",
        "      return 1 + len(self.next_node)\n",
        "\n",
        "  def __iter__(self):\n",
        "    yield self.element\n",
        "    if self.next_node is not None:\n",
        "      yield from self.next_node\n",
        "\n",
        "x = LinkedList(3, LinkedList(4, LinkedList(5)))\n",
        "print(x)\n",
        "print(len(x))"
      ]
    },
    {
      "cell_type": "code",
      "execution_count": null,
      "metadata": {
        "id": "8CEU4UcrzIE-"
      },
      "outputs": [],
      "source": [
        "class Felidae:\n",
        "  pass\n",
        "\n",
        "class Felis(Felidae):\n",
        "  pass\n",
        "\n",
        "class FelisCatus(Felis):\n",
        "  pass\n",
        "\n",
        "class Panthera(Felidae):\n",
        "  pass"
      ]
    },
    {
      "cell_type": "code",
      "execution_count": null,
      "metadata": {
        "colab": {
          "base_uri": "https://localhost:8080/"
        },
        "id": "ptehJXSozcUe",
        "outputId": "0bd3d2cf-e45f-44a8-a3ef-3aa6ad1eec89"
      },
      "outputs": [
        {
          "name": "stdout",
          "output_type": "stream",
          "text": [
            "dog\n",
            "fish\n"
          ]
        }
      ],
      "source": [
        "x = \"dog\"\n",
        "\n",
        "class A:\n",
        "  x = \"cat\"\n",
        "\n",
        "class B(A):\n",
        "  x = \"ferret\"\n",
        "  def __init__(self):\n",
        "    self.x = x\n",
        "\n",
        "class C(B):\n",
        "  x = \"fish\"\n",
        "  def __init__(self):\n",
        "    pass\n",
        "\n",
        "b = B()\n",
        "print(b.x)\n",
        "c = C()\n",
        "print(c.x)"
      ]
    },
    {
      "cell_type": "code",
      "execution_count": null,
      "metadata": {
        "colab": {
          "base_uri": "https://localhost:8080/"
        },
        "id": "bRnbTBKKcpoc",
        "outputId": "8f673312-622f-4e91-fc17-07d65729119f"
      },
      "outputs": [
        {
          "name": "stdout",
          "output_type": "stream",
          "text": [
            "HELLO\n"
          ]
        }
      ],
      "source": [
        "def all_caps_list(words):\n",
        "  if len(words) == 1:\n",
        "    return words[0].upper()\n",
        "  else:\n",
        "    return [words[0].upper()] + all_caps_list(words[1:])\n",
        "\n",
        "print(all_caps_list(\"hello\".split()))"
      ]
    },
    {
      "cell_type": "code",
      "execution_count": null,
      "metadata": {
        "colab": {
          "base_uri": "https://localhost:8080/"
        },
        "id": "AmBTigzNdFb4",
        "outputId": "d718be20-eafc-40b7-e3c7-d2eae47dc79c"
      },
      "outputs": [
        {
          "name": "stdout",
          "output_type": "stream",
          "text": [
            "8\n",
            "4\n"
          ]
        }
      ],
      "source": [
        "## OOP Version\n",
        "\n",
        "class Bank:\n",
        "  def __init__(self):\n",
        "    self.accounts = {}\n",
        "\n",
        "  def balance_of(self, account):\n",
        "    return self.accounts.get(account, 0)\n",
        "\n",
        "  def deposit(self, account, amount):\n",
        "    self.accounts[account] = self.balance_of(account) + amount\n",
        "\n",
        "b = Bank()\n",
        "b.deposit('Steve', 3)\n",
        "b.deposit('Magdalena', 4)\n",
        "b.deposit('Steve', 5)\n",
        "print(b.balance_of('Steve'))\n",
        "print(b.balance_of('Magdalena'))"
      ]
    },
    {
      "cell_type": "code",
      "execution_count": null,
      "metadata": {
        "colab": {
          "base_uri": "https://localhost:8080/"
        },
        "id": "MhGkIZpgdSD8",
        "outputId": "868b3d44-60ab-46e8-9268-2accadf4e05b"
      },
      "outputs": [
        {
          "name": "stdout",
          "output_type": "stream",
          "text": [
            "8\n",
            "4\n"
          ]
        }
      ],
      "source": [
        "## functional version\n",
        "def bank():\n",
        "  accounts = {}\n",
        "\n",
        "  def balance_of(account):\n",
        "    return accounts.get(account, 0)\n",
        "\n",
        "  def deposit(account, amount):\n",
        "    accounts[account] = balance_of(account) + amount\n",
        "\n",
        "  return balance_of, deposit\n",
        "\n",
        "balance_of, deposit = bank()\n",
        "deposit('Steve', 3)\n",
        "deposit('Magdalena', 4)\n",
        "deposit('Steve', 5)\n",
        "print(balance_of('Steve'))\n",
        "print(balance_of('Magdalena'))"
      ]
    },
    {
      "cell_type": "code",
      "execution_count": null,
      "metadata": {
        "id": "UMdEMx_ad5e2"
      },
      "outputs": [],
      "source": [
        "def counter():\n",
        "  tally = 0"
      ]
    },
    {
      "cell_type": "code",
      "execution_count": null,
      "metadata": {
        "colab": {
          "base_uri": "https://localhost:8080/",
          "height": 341
        },
        "id": "IuLt1FX7fqXT",
        "outputId": "2073e6f3-33f9-4267-ab80-fb9b341f78ec"
      },
      "outputs": [
        {
          "ename": "UnboundLocalError",
          "evalue": "local variable 'tally' referenced before assignment",
          "output_type": "error",
          "traceback": [
            "\u001b[0;31m---------------------------------------------------------------------------\u001b[0m",
            "\u001b[0;31mUnboundLocalError\u001b[0m                         Traceback (most recent call last)",
            "\u001b[0;32m<ipython-input-11-82d0d92b1c3f>\u001b[0m in \u001b[0;36m<cell line: 12>\u001b[0;34m()\u001b[0m\n\u001b[1;32m     10\u001b[0m \u001b[0;34m\u001b[0m\u001b[0m\n\u001b[1;32m     11\u001b[0m \u001b[0minc\u001b[0m \u001b[0;34m=\u001b[0m \u001b[0mcounter\u001b[0m\u001b[0;34m(\u001b[0m\u001b[0;34m)\u001b[0m\u001b[0;34m\u001b[0m\u001b[0;34m\u001b[0m\u001b[0m\n\u001b[0;32m---> 12\u001b[0;31m \u001b[0minc\u001b[0m\u001b[0;34m(\u001b[0m\u001b[0;34m)\u001b[0m\u001b[0;34m\u001b[0m\u001b[0;34m\u001b[0m\u001b[0m\n\u001b[0m\u001b[1;32m     13\u001b[0m \u001b[0minc\u001b[0m\u001b[0;34m(\u001b[0m\u001b[0;34m)\u001b[0m\u001b[0;34m\u001b[0m\u001b[0;34m\u001b[0m\u001b[0m\n\u001b[1;32m     14\u001b[0m \u001b[0minc\u001b[0m\u001b[0;34m(\u001b[0m\u001b[0;34m)\u001b[0m\u001b[0;34m\u001b[0m\u001b[0;34m\u001b[0m\u001b[0m\n",
            "\u001b[0;32m<ipython-input-11-82d0d92b1c3f>\u001b[0m in \u001b[0;36mincrement\u001b[0;34m()\u001b[0m\n\u001b[1;32m      4\u001b[0m \u001b[0;34m\u001b[0m\u001b[0m\n\u001b[1;32m      5\u001b[0m   \u001b[0;32mdef\u001b[0m \u001b[0mincrement\u001b[0m\u001b[0;34m(\u001b[0m\u001b[0;34m)\u001b[0m\u001b[0;34m:\u001b[0m\u001b[0;34m\u001b[0m\u001b[0;34m\u001b[0m\u001b[0m\n\u001b[0;32m----> 6\u001b[0;31m     \u001b[0mtally\u001b[0m \u001b[0;34m+=\u001b[0m \u001b[0;36m1\u001b[0m\u001b[0;34m\u001b[0m\u001b[0;34m\u001b[0m\u001b[0m\n\u001b[0m\u001b[1;32m      7\u001b[0m     \u001b[0;32mreturn\u001b[0m \u001b[0mtally\u001b[0m\u001b[0;34m\u001b[0m\u001b[0;34m\u001b[0m\u001b[0m\n\u001b[1;32m      8\u001b[0m \u001b[0;34m\u001b[0m\u001b[0m\n",
            "\u001b[0;31mUnboundLocalError\u001b[0m: local variable 'tally' referenced before assignment"
          ]
        }
      ],
      "source": [
        "from ast import increment_lineno\n",
        "def counter():\n",
        "  tally = 0\n",
        "\n",
        "  def increment():\n",
        "    nonlocal tally\n",
        "    tally += 1\n",
        "    return tally\n",
        "\n",
        "  return increment\n",
        "\n",
        "inc = counter()\n",
        "inc()\n",
        "inc()\n",
        "inc()"
      ]
    },
    {
      "cell_type": "code",
      "execution_count": 2,
      "metadata": {
        "colab": {
          "base_uri": "https://localhost:8080/"
        },
        "id": "jwF1h0mihO6f",
        "outputId": "a5a1fe46-06cc-4fef-a3a3-b15dfbe508b6"
      },
      "outputs": [
        {
          "name": "stdout",
          "output_type": "stream",
          "text": [
            "354224848179261915075\n"
          ]
        }
      ],
      "source": [
        "def fib(n):\n",
        "  cache = {}\n",
        "\n",
        "  def _actual_fib(n):\n",
        "    if n not in cache:\n",
        "      if n < 2:\n",
        "        cache[n] = n\n",
        "      else:\n",
        "        cache[n] = _actual_fib(n-2) + _actual_fib(n-1)\n",
        "    return cache[n]\n",
        "\n",
        "  return _actual_fib(n)\n",
        "\n",
        "print(fib(100))"
      ]
    },
    {
      "cell_type": "code",
      "execution_count": null,
      "metadata": {
        "id": "V6gXknU_iNnv"
      },
      "outputs": [],
      "source": [
        "class MemoizedFunction:\n",
        "  def __init__(self, func):\n",
        "    self.func = func\n",
        "    self.cache = {}\n",
        "\n",
        "  def __call__(self, *args):\n",
        "    if args not in self.cache:\n",
        "      self.cache[args] = self.func(*args)\n",
        "    return self.cache[args]"
      ]
    },
    {
      "cell_type": "code",
      "execution_count": 1,
      "metadata": {
        "id": "ecnb7i0-jckD"
      },
      "outputs": [],
      "source": [
        "def memoize(func):\n",
        "  cache = {}\n",
        "\n",
        "  def _mfunc(*args):\n",
        "    if args not in cache:\n",
        "      cache[args] = func(*args)\n",
        "    return cache[args]\n",
        "\n",
        "  return _mfunc\n",
        "\n",
        "@memoize\n",
        "def fib(n):\n",
        "    if n < 2:\n",
        "        return n\n",
        "    return fib(n-2) + fib(n-1)\n",
        "\n",
        "fib = memoize(fib)"
      ]
    },
    {
      "cell_type": "code",
      "execution_count": null,
      "metadata": {},
      "outputs": [],
      "source": [
        "mystr = \"This is a very long string that I want to split over multiple lines. \\\n",
        "               It makes the code more readable and easier to maintain.\"\n",
        "for word in mystr.split():\n",
        "    print(word)\n",
        "\n"
      ]
    },
    {
      "cell_type": "code",
      "execution_count": 5,
      "metadata": {},
      "outputs": [
        {
          "name": "stdout",
          "output_type": "stream",
          "text": [
            "h\n",
            "1\n",
            "i\n",
            "2\n",
            ")\n",
            "3\n",
            "\n",
            "\n",
            "4\n"
          ]
        }
      ],
      "source": [
        "x = \"hi)\\n\"\n",
        "i = 0\n",
        "for char in x:\n",
        "    print(char)\n",
        "    i += 1\n",
        "    print(i)"
      ]
    },
    {
      "cell_type": "code",
      "execution_count": null,
      "metadata": {},
      "outputs": [],
      "source": []
    }
  ],
  "metadata": {
    "colab": {
      "provenance": []
    },
    "kernelspec": {
      "display_name": "Python 3",
      "name": "python3"
    },
    "language_info": {
      "codemirror_mode": {
        "name": "ipython",
        "version": 3
      },
      "file_extension": ".py",
      "mimetype": "text/x-python",
      "name": "python",
      "nbconvert_exporter": "python",
      "pygments_lexer": "ipython3",
      "version": "3.12.1"
    }
  },
  "nbformat": 4,
  "nbformat_minor": 0
}
